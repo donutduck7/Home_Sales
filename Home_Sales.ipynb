{
  "cells": [
    {
      "cell_type": "code",
      "execution_count": 64,
      "metadata": {
        "colab": {
          "base_uri": "https://localhost:8080/"
        },
        "id": "a_KW73O2e3dw",
        "outputId": "1437ec60-64fb-4001-8223-14a0de6ba900"
      },
      "outputs": [
        {
          "output_type": "stream",
          "name": "stdout",
          "text": [
            "\r0% [Working]\r            \rHit:1 http://security.ubuntu.com/ubuntu jammy-security InRelease\n",
            "\r0% [Connecting to archive.ubuntu.com] [Connected to cloud.r-project.org (108.157.173.89)] [Connectin\r                                                                                                    \rHit:2 https://developer.download.nvidia.com/compute/cuda/repos/ubuntu2204/x86_64  InRelease\n",
            "\r0% [Connecting to archive.ubuntu.com (91.189.91.83)] [Connected to cloud.r-project.org (108.157.173.\r                                                                                                    \rHit:3 http://archive.ubuntu.com/ubuntu jammy InRelease\n",
            "\r0% [Waiting for headers] [Waiting for headers] [Connected to ppa.launchpadcontent.net (185.125.190.8\r                                                                                                    \rHit:4 https://cloud.r-project.org/bin/linux/ubuntu jammy-cran40/ InRelease\n",
            "\r                                                                                                    \r0% [Waiting for headers] [Connected to ppa.launchpadcontent.net (185.125.190.80)]\r                                                                                 \rHit:5 http://archive.ubuntu.com/ubuntu jammy-updates InRelease\n",
            "Hit:6 http://archive.ubuntu.com/ubuntu jammy-backports InRelease\n",
            "Hit:7 https://ppa.launchpadcontent.net/c2d4u.team/c2d4u4.0+/ubuntu jammy InRelease\n",
            "Hit:8 https://ppa.launchpadcontent.net/deadsnakes/ppa/ubuntu jammy InRelease\n",
            "Hit:9 https://ppa.launchpadcontent.net/graphics-drivers/ppa/ubuntu jammy InRelease\n",
            "Hit:10 https://ppa.launchpadcontent.net/ubuntugis/ppa/ubuntu jammy InRelease\n",
            "Reading package lists... Done\n"
          ]
        }
      ],
      "source": [
        "import os\n",
        "# Find the latest version of spark 3.x  from https://downloads.apache.org/spark/ and enter as the spark version\n",
        "# For example:\n",
        "# spark_version = 'spark-3.5.1'\n",
        "spark_version = 'spark-3.5.1'\n",
        "os.environ['SPARK_VERSION']=spark_version\n",
        "\n",
        "# Install Spark and Java\n",
        "!apt-get update\n",
        "!apt-get install openjdk-11-jdk-headless -qq > /dev/null\n",
        "!wget -q https://downloads.apache.org/spark/$SPARK_VERSION/$SPARK_VERSION-bin-hadoop3.tgz\n",
        "!tar xf $SPARK_VERSION-bin-hadoop3.tgz\n",
        "!pip install -q findspark\n",
        "\n",
        "# Set Environment Variables\n",
        "os.environ[\"JAVA_HOME\"] = \"/usr/lib/jvm/java-11-openjdk-amd64\"\n",
        "os.environ[\"SPARK_HOME\"] = f\"/content/{spark_version}-bin-hadoop3\"\n",
        "\n",
        "# Start a SparkSession\n",
        "import findspark\n",
        "findspark.init()"
      ]
    },
    {
      "cell_type": "code",
      "execution_count": 65,
      "metadata": {
        "id": "2XbWNf1Te5fM"
      },
      "outputs": [],
      "source": [
        "# Import packages\n",
        "from pyspark.sql import SparkSession\n",
        "import time\n",
        "\n",
        "# Create a SparkSession\n",
        "spark = SparkSession.builder.appName(\"SparkSQL\").getOrCreate()"
      ]
    },
    {
      "cell_type": "code",
      "execution_count": 66,
      "metadata": {
        "id": "wOJqxG_RPSwp",
        "colab": {
          "base_uri": "https://localhost:8080/"
        },
        "outputId": "28442aa2-c385-43f4-8ed7-22ccc12c324e"
      },
      "outputs": [
        {
          "output_type": "stream",
          "name": "stdout",
          "text": [
            "+--------------------+----------+----------+------+--------+---------+-----------+--------+------+----------+----+\n",
            "|                  id|      date|date_built| price|bedrooms|bathrooms|sqft_living|sqft_lot|floors|waterfront|view|\n",
            "+--------------------+----------+----------+------+--------+---------+-----------+--------+------+----------+----+\n",
            "|f8a53099-ba1c-47d...|2022-04-08|      2016|936923|       4|        3|       3167|   11733|     2|         1|  76|\n",
            "|7530a2d8-1ae3-451...|2021-06-13|      2013|379628|       2|        2|       2235|   14384|     1|         0|  23|\n",
            "|43de979c-0bf0-4c9...|2019-04-12|      2014|417866|       2|        2|       2127|   10575|     2|         0|   0|\n",
            "|b672c137-b88c-48b...|2019-10-16|      2016|239895|       2|        2|       1631|   11149|     2|         0|   0|\n",
            "|e0726d4d-d595-407...|2022-01-08|      2017|424418|       3|        2|       2249|   13878|     2|         0|   4|\n",
            "+--------------------+----------+----------+------+--------+---------+-----------+--------+------+----------+----+\n",
            "only showing top 5 rows\n",
            "\n"
          ]
        }
      ],
      "source": [
        "# 1. Read in the AWS S3 bucket into a DataFrame.\n",
        "from pyspark import SparkFiles\n",
        "url = \"https://2u-data-curriculum-team.s3.amazonaws.com/dataviz-classroom/v1.2/22-big-data/home_sales_revised.csv\"\n",
        "spark.sparkContext.addFile(url)\n",
        "home_sales = spark.read.csv(SparkFiles.get(\"home_sales_revised.csv\"), sep=\",\", header=True)\n",
        "home_sales.show(5)"
      ]
    },
    {
      "cell_type": "code",
      "execution_count": 67,
      "metadata": {
        "id": "RoljcJ7WPpnm"
      },
      "outputs": [],
      "source": [
        "# 2. Create a temporary view of the DataFrame.\n",
        "\n",
        "home_sales.createOrReplaceTempView(\"sales_data\")"
      ]
    },
    {
      "cell_type": "code",
      "source": [],
      "metadata": {
        "id": "8bJ-ZmKAz3mm"
      },
      "execution_count": 67,
      "outputs": []
    },
    {
      "cell_type": "code",
      "execution_count": 68,
      "metadata": {
        "id": "L6fkwOeOmqvq",
        "colab": {
          "base_uri": "https://localhost:8080/"
        },
        "outputId": "fc500163-31c3-46e9-91ea-94021b7069b5"
      },
      "outputs": [
        {
          "output_type": "stream",
          "name": "stdout",
          "text": [
            "+----+---------+\n",
            "|Year| AvgPrice|\n",
            "+----+---------+\n",
            "|2019| 300263.7|\n",
            "|2020|298353.78|\n",
            "|2021|301819.44|\n",
            "|2022|296363.88|\n",
            "+----+---------+\n",
            "\n"
          ]
        }
      ],
      "source": [
        "# 3. What is the average price for a four bedroom house sold per year, rounded to two decimal places?\n",
        "\n",
        "avg_4_bed = spark.sql(\"\"\"SELECT YEAR(date)AS Year, ROUND(avg(price),2)AS AvgPrice FROM sales_data WHERE bedrooms==4 GROUP BY YEAR(date)ORDER BY YEAR(date)\"\"\")\n",
        "avg_4_bed.show()"
      ]
    },
    {
      "cell_type": "code",
      "execution_count": 69,
      "metadata": {
        "id": "l8p_tUS8h8it",
        "colab": {
          "base_uri": "https://localhost:8080/"
        },
        "outputId": "246f7a0d-7871-4bb9-d92d-345e00404474"
      },
      "outputs": [
        {
          "output_type": "stream",
          "name": "stdout",
          "text": [
            "+----------+---------+\n",
            "|Date_Built| AvgPrice|\n",
            "+----------+---------+\n",
            "|      2017|292676.79|\n",
            "|      2016|290555.07|\n",
            "|      2015| 288770.3|\n",
            "|      2014|290852.27|\n",
            "|      2013|295962.27|\n",
            "|      2012|293683.19|\n",
            "|      2011|291117.47|\n",
            "|      2010|292859.62|\n",
            "+----------+---------+\n",
            "\n"
          ]
        }
      ],
      "source": [
        "# 4. What is the average price of a home for each year the home was built,\n",
        "# that have 3 bedrooms and 3 bathrooms, rounded to two decimal places?\n",
        "avg_price_3b_3ba = spark.sql(\"\"\"SELECT date_built AS Date_Built,\n",
        "                                 ROUND(AVG(price),2)\n",
        "                                 AS AvgPrice FROM sales_data\n",
        "                                 WHERE bedrooms == 3\n",
        "                                 AND bathrooms == 3\n",
        "                                 GROUP BY date_built\n",
        "                                 ORDER BY date_built DESC\"\"\")\n",
        "avg_price_3b_3ba.show()"
      ]
    },
    {
      "cell_type": "code",
      "execution_count": 70,
      "metadata": {
        "id": "Y-Eytz64liDU",
        "colab": {
          "base_uri": "https://localhost:8080/"
        },
        "outputId": "52e7831c-301c-4f27-a2ea-0b30fc1ae758"
      },
      "outputs": [
        {
          "output_type": "stream",
          "name": "stdout",
          "text": [
            "+----------+---------+\n",
            "|Date_Built| AvgPrice|\n",
            "+----------+---------+\n",
            "|      2017|292676.79|\n",
            "|      2016|290555.07|\n",
            "|      2015| 288770.3|\n",
            "|      2014|290852.27|\n",
            "|      2013|295962.27|\n",
            "|      2012|293683.19|\n",
            "|      2011|291117.47|\n",
            "|      2010|292859.62|\n",
            "+----------+---------+\n",
            "\n"
          ]
        }
      ],
      "source": [
        "# 4. What is the average price of a home for each year the home was built,\n",
        "# that have 3 bedrooms and 3 bathrooms, rounded to two decimal places?\n",
        "avg_price_3b_3ba = spark.sql(\"\"\"SELECT date_built AS Date_Built,\n",
        "                                 ROUND(AVG(price),2)\n",
        "                                 AS AvgPrice FROM sales_data\n",
        "                                 WHERE bedrooms == 3\n",
        "                                 AND bathrooms == 3\n",
        "                                 GROUP BY date_built\n",
        "                                 ORDER BY date_built DESC\"\"\")\n",
        "avg_price_3b_3ba.show()"
      ]
    },
    {
      "cell_type": "code",
      "execution_count": 71,
      "metadata": {
        "colab": {
          "base_uri": "https://localhost:8080/"
        },
        "id": "GUrfgOX1pCRd",
        "outputId": "5c6e3abf-d1ee-42ee-f18e-f014364e5f2b"
      },
      "outputs": [
        {
          "output_type": "stream",
          "name": "stdout",
          "text": [
            "+----+------------+\n",
            "|view|AveragePrice|\n",
            "+----+------------+\n",
            "|  99|  1061201.42|\n",
            "|  98|  1053739.33|\n",
            "|  97|  1129040.15|\n",
            "|  96|  1017815.92|\n",
            "|  95|   1054325.6|\n",
            "|  94|   1033536.2|\n",
            "|  93|  1026006.06|\n",
            "|  92|   970402.55|\n",
            "|  91|  1137372.73|\n",
            "|  90|  1062654.16|\n",
            "|  89|  1107839.15|\n",
            "|  88|  1031719.35|\n",
            "|  87|   1072285.2|\n",
            "|  86|  1070444.25|\n",
            "|  85|  1056336.74|\n",
            "|  84|  1117233.13|\n",
            "|  83|  1033965.93|\n",
            "|  82|   1063498.0|\n",
            "|  81|  1053472.79|\n",
            "|  80|   991767.38|\n",
            "+----+------------+\n",
            "only showing top 20 rows\n",
            "\n",
            "--- Runtime: 1.380079984664917 seconds ---\n"
          ]
        }
      ],
      "source": [
        "# Start time\n",
        "start_time = time.time()\n",
        "\n",
        "# SQL query to calculate the average price per view rating\n",
        "query = \"\"\"\n",
        "    SELECT\n",
        "        view,\n",
        "        ROUND(AVG(price), 2) AS AveragePrice\n",
        "    FROM\n",
        "        sales_data\n",
        "    GROUP BY\n",
        "        view\n",
        "    HAVING\n",
        "        AVG(price) >= 350000\n",
        "    ORDER BY\n",
        "        view DESC\n",
        "\"\"\"\n",
        "\n",
        "# Execute the SQL query\n",
        "average_prices_per_view = spark.sql(query)\n",
        "\n",
        "# Show the result\n",
        "average_prices_per_view.show()\n",
        "\n",
        "# End time\n",
        "end_time = time.time()\n",
        "\n",
        "# Calculate runtime\n",
        "runtime = end_time - start_time\n",
        "print(\"--- Runtime: %s seconds ---\" % runtime)\n"
      ]
    },
    {
      "cell_type": "code",
      "source": [
        "# 7. Cache the the temporary table home_sales.\n",
        "spark.sql(\"cache table sales_data\")"
      ],
      "metadata": {
        "colab": {
          "base_uri": "https://localhost:8080/"
        },
        "id": "Qi_TyG_uDTVt",
        "outputId": "58310206-c05e-44f2-b424-c0c075d39ba4"
      },
      "execution_count": 72,
      "outputs": [
        {
          "output_type": "execute_result",
          "data": {
            "text/plain": [
              "DataFrame[]"
            ]
          },
          "metadata": {},
          "execution_count": 72
        }
      ]
    },
    {
      "cell_type": "code",
      "execution_count": 73,
      "metadata": {
        "id": "KAhk3ZD2tFy8",
        "colab": {
          "base_uri": "https://localhost:8080/"
        },
        "outputId": "752856df-7d33-4f44-d3a5-48e38a02adbd"
      },
      "outputs": [
        {
          "output_type": "execute_result",
          "data": {
            "text/plain": [
              "DataFrame[id: string, date: string, date_built: string, price: string, bedrooms: string, bathrooms: string, sqft_living: string, sqft_lot: string, floors: string, waterfront: string, view: string]"
            ]
          },
          "metadata": {},
          "execution_count": 73
        }
      ],
      "source": [
        "# 7. Cache the the temporary table home_sales.\n",
        "# Cache the home_sales DataFrame\n",
        "home_sales.cache()\n"
      ]
    },
    {
      "cell_type": "code",
      "execution_count": 74,
      "metadata": {
        "id": "4opVhbvxtL-i",
        "colab": {
          "base_uri": "https://localhost:8080/"
        },
        "outputId": "07bb5863-a246-4307-e192-8a772fa72125"
      },
      "outputs": [
        {
          "output_type": "execute_result",
          "data": {
            "text/plain": [
              "True"
            ]
          },
          "metadata": {},
          "execution_count": 74
        }
      ],
      "source": [
        "# 8. Check if the table is cached.\n",
        "# Check if the table is cached\n",
        "spark.catalog.isCached('sales_data')\n"
      ]
    },
    {
      "cell_type": "code",
      "execution_count": 75,
      "metadata": {
        "colab": {
          "base_uri": "https://localhost:8080/"
        },
        "id": "5GnL46lwTSEk",
        "outputId": "0c8f29b3-484a-4ef4-eb73-a654fba3b913"
      },
      "outputs": [
        {
          "output_type": "stream",
          "name": "stdout",
          "text": [
            "+----------+----------+\n",
            "|ViewRating|  AvgPrice|\n",
            "+----------+----------+\n",
            "|        99|1061201.42|\n",
            "|        98|1053739.33|\n",
            "|        97|1129040.15|\n",
            "|        96|1017815.92|\n",
            "|        95| 1054325.6|\n",
            "|        94| 1033536.2|\n",
            "|        93|1026006.06|\n",
            "|        92| 970402.55|\n",
            "|        91|1137372.73|\n",
            "|        90|1062654.16|\n",
            "|        89|1107839.15|\n",
            "|        88|1031719.35|\n",
            "|        87| 1072285.2|\n",
            "|        86|1070444.25|\n",
            "|        85|1056336.74|\n",
            "|        84|1117233.13|\n",
            "|        83|1033965.93|\n",
            "|        82| 1063498.0|\n",
            "|        81|1053472.79|\n",
            "|        80| 991767.38|\n",
            "+----------+----------+\n",
            "only showing top 20 rows\n",
            "\n",
            "--- 1.8754000663757324 seconds ---\n"
          ]
        }
      ],
      "source": [
        "# 9. Using the cached data, run the last query above, that calculates\n",
        "# the average price of a home per \"view\" rating, rounded to two decimal places,\n",
        "# having an average home price greater than or equal to $350,000.\n",
        "# Determine the runtime and compare it to the uncached runtime.\n",
        "\n",
        "start_time = time.time()\n",
        "\n",
        "spark.sql(\"\"\"SELECT view AS ViewRating, ROUND(AVG(price), 2)\n",
        "              AS AvgPrice\n",
        "              FROM sales_data\n",
        "              GROUP BY view\n",
        "              HAVING AVG(price) >= 350000\n",
        "              ORDER BY view DESC\"\"\").show()\n",
        "\n",
        "print(\"--- %s seconds ---\" % (time.time() - start_time))\n",
        "\n"
      ]
    },
    {
      "cell_type": "code",
      "execution_count": 76,
      "metadata": {
        "id": "Qm12WN9isHBR"
      },
      "outputs": [],
      "source": [
        "# 10. Partition by the \"date_built\" field on the formatted parquet home sales data\n",
        "# Define the path where the formatted Parquet data will be stored\n",
        "home_sales.write.parquet('sales_parquet', mode='overwrite')\n"
      ]
    },
    {
      "cell_type": "code",
      "execution_count": 77,
      "metadata": {
        "id": "AZ7BgY61sRqY"
      },
      "outputs": [],
      "source": [
        "# 11. Read the parquet formatted data.\n",
        "\n",
        "p_home_sales = spark.read.parquet('sales_parquet')"
      ]
    },
    {
      "cell_type": "code",
      "execution_count": 78,
      "metadata": {
        "id": "J6MJkHfvVcvh"
      },
      "outputs": [],
      "source": [
        "# 12. Create a temporary table for the parquet data.\n",
        "p_home_sales.createOrReplaceTempView(\"p_home_sales_p\")\n"
      ]
    },
    {
      "cell_type": "code",
      "execution_count": 79,
      "metadata": {
        "colab": {
          "base_uri": "https://localhost:8080/"
        },
        "id": "G_Vhb52rU1Sn",
        "outputId": "4ef2d976-3076-4608-8a07-a4bff836f948"
      },
      "outputs": [
        {
          "output_type": "stream",
          "name": "stdout",
          "text": [
            "+----------+----------+\n",
            "|ViewRating|  AvgPrice|\n",
            "+----------+----------+\n",
            "|        99|1061201.42|\n",
            "|        98|1053739.33|\n",
            "|        97|1129040.15|\n",
            "|        96|1017815.92|\n",
            "|        95| 1054325.6|\n",
            "|        94| 1033536.2|\n",
            "|        93|1026006.06|\n",
            "|        92| 970402.55|\n",
            "|        91|1137372.73|\n",
            "|        90|1062654.16|\n",
            "|        89|1107839.15|\n",
            "|        88|1031719.35|\n",
            "|        87| 1072285.2|\n",
            "|        86|1070444.25|\n",
            "|        85|1056336.74|\n",
            "|        84|1117233.13|\n",
            "|        83|1033965.93|\n",
            "|        82| 1063498.0|\n",
            "|        81|1053472.79|\n",
            "|        80| 991767.38|\n",
            "+----------+----------+\n",
            "only showing top 20 rows\n",
            "\n",
            "--- 1.072906255722046 seconds ---\n"
          ]
        }
      ],
      "source": [
        "# 13. Using the parquet DataFrame, run the last query above, that calculates\n",
        "# the average price of a home per \"view\" rating, rounded to two decimal places,\n",
        "# having an average home price greater than or equal to $350,000.\n",
        "\n",
        "start_time = time.time()\n",
        "\n",
        "spark.sql(\"\"\"SELECT view AS ViewRating, ROUND(AVG(price), 2)\n",
        "              AS AvgPrice\n",
        "              FROM p_home_sales_p\n",
        "              GROUP BY view\n",
        "              HAVING AVG(price) >= 350000\n",
        "              ORDER BY view DESC\"\"\").show()\n",
        "\n",
        "print(\"--- %s seconds ---\" % (time.time() - start_time))"
      ]
    },
    {
      "cell_type": "code",
      "source": [
        "# Determine the runtime and compare it to the cached runtime.\n",
        "print(\"the parquet runtime 0.59 seconds is almost identical to the cached runtime of 0.60 seconds\")\n"
      ],
      "metadata": {
        "colab": {
          "base_uri": "https://localhost:8080/"
        },
        "id": "vnr9rAAtCa49",
        "outputId": "22a5e0bb-1446-4209-9522-5522fcf98e89"
      },
      "execution_count": 80,
      "outputs": [
        {
          "output_type": "stream",
          "name": "stdout",
          "text": [
            "the parquet runtime 0.59 seconds is almost identical to the cached runtime of 0.60 seconds\n"
          ]
        }
      ]
    },
    {
      "cell_type": "code",
      "execution_count": 81,
      "metadata": {
        "id": "hjjYzQGjtbq8",
        "colab": {
          "base_uri": "https://localhost:8080/"
        },
        "outputId": "baab00b1-b547-47fd-b778-8bdc08872297"
      },
      "outputs": [
        {
          "output_type": "stream",
          "name": "stdout",
          "text": [
            "Table 'home_sales' does not exist in the catalog.\n"
          ]
        }
      ],
      "source": [
        "# 14. Uncache the home_sales temporary table.\n",
        "if spark.catalog._jcatalog.tableExists(\"home_sales\"):\n",
        "    spark.catalog.uncacheTable(\"home_sales\")\n",
        "    print(\"Table 'home_sales' has been uncached.\")\n",
        "else:\n",
        "    print(\"Table 'home_sales' does not exist in the catalog.\")\n",
        "\n"
      ]
    },
    {
      "cell_type": "code",
      "source": [
        "# 15. Check if the home_sales is no longer cached\n",
        "# 1. Read in the AWS S3 bucket into a DataFrame.\n",
        "from pyspark import SparkFiles\n",
        "url = \"https://2u-data-curriculum-team.s3.amazonaws.com/dataviz-classroom/v1.2/22-big-data/home_sales_revised.csv\"\n",
        "spark.sparkContext.addFile(url)\n",
        "home_sales = spark.read.csv(SparkFiles.get(\"home_sales_revised.csv\"), sep=\",\", header=True)\n",
        "home_sales.show(5)\n",
        "\n",
        "# 2. Cache the DataFrame.\n",
        "home_sales.createOrReplaceTempView(\"home_sales\")\n",
        "spark.catalog.cacheTable(\"home_sales\")\n",
        "\n",
        "# 3. Check if the DataFrame is cached.\n",
        "if spark.catalog.isCached('home_sales'):\n",
        "    print(\"The 'home_sales' DataFrame is cached.\")\n",
        "else:\n",
        "    print(\"The 'home_sales' DataFrame is not cached.\")\n"
      ],
      "metadata": {
        "colab": {
          "base_uri": "https://localhost:8080/"
        },
        "id": "cTchr8bFENiy",
        "outputId": "ee2667ca-de31-44cc-cd2d-671cff05d91a"
      },
      "execution_count": 83,
      "outputs": [
        {
          "output_type": "stream",
          "name": "stdout",
          "text": [
            "+--------------------+----------+----------+------+--------+---------+-----------+--------+------+----------+----+\n",
            "|                  id|      date|date_built| price|bedrooms|bathrooms|sqft_living|sqft_lot|floors|waterfront|view|\n",
            "+--------------------+----------+----------+------+--------+---------+-----------+--------+------+----------+----+\n",
            "|f8a53099-ba1c-47d...|2022-04-08|      2016|936923|       4|        3|       3167|   11733|     2|         1|  76|\n",
            "|7530a2d8-1ae3-451...|2021-06-13|      2013|379628|       2|        2|       2235|   14384|     1|         0|  23|\n",
            "|43de979c-0bf0-4c9...|2019-04-12|      2014|417866|       2|        2|       2127|   10575|     2|         0|   0|\n",
            "|b672c137-b88c-48b...|2019-10-16|      2016|239895|       2|        2|       1631|   11149|     2|         0|   0|\n",
            "|e0726d4d-d595-407...|2022-01-08|      2017|424418|       3|        2|       2249|   13878|     2|         0|   4|\n",
            "+--------------------+----------+----------+------+--------+---------+-----------+--------+------+----------+----+\n",
            "only showing top 5 rows\n",
            "\n",
            "The 'home_sales' DataFrame is cached.\n"
          ]
        }
      ]
    },
    {
      "cell_type": "code",
      "execution_count": null,
      "metadata": {
        "id": "Si-BNruRUGK3"
      },
      "outputs": [],
      "source": []
    }
  ],
  "metadata": {
    "colab": {
      "provenance": []
    },
    "gpuClass": "standard",
    "kernelspec": {
      "display_name": "Python 3 (ipykernel)",
      "language": "python",
      "name": "python3"
    },
    "language_info": {
      "codemirror_mode": {
        "name": "ipython",
        "version": 3
      },
      "file_extension": ".py",
      "mimetype": "text/x-python",
      "name": "python",
      "nbconvert_exporter": "python",
      "pygments_lexer": "ipython3",
      "version": "3.10.4"
    },
    "nteract": {
      "version": "0.28.0"
    }
  },
  "nbformat": 4,
  "nbformat_minor": 0
}